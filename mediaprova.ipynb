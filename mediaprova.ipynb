{
  "nbformat": 4,
  "nbformat_minor": 0,
  "metadata": {
    "colab": {
      "provenance": []
    },
    "kernelspec": {
      "name": "python3",
      "display_name": "Python 3"
    },
    "language_info": {
      "name": "python"
    }
  },
  "cells": [
    {
      "cell_type": "markdown",
      "source": [
        "#**Primeiro Semestre**"
      ],
      "metadata": {
        "id": "xkTna3664zkN"
      }
    },
    {
      "cell_type": "code",
      "execution_count": null,
      "metadata": {
        "colab": {
          "base_uri": "https://localhost:8080/"
        },
        "id": "uz0vygPF3Qu1",
        "outputId": "ecaebd7c-4f95-4350-fc22-8a6913afe158"
      },
      "outputs": [
        {
          "output_type": "stream",
          "name": "stdout",
          "text": [
            "Insira a primeira nota\n",
            "6.5\n",
            "Insira a segunda nota\n",
            "7.7\n",
            "A sua nota é: 7.1\n"
          ]
        }
      ],
      "source": [
        "print (\"Insira a primeira nota\")\n",
        "val1 = float(input ())\n",
        "print (\"Insira a segunda nota\")\n",
        "val2 = float(input ())\n",
        "print (\"A sua nota é:\", (float(val1) + float(val2))/2)"
      ]
    },
    {
      "cell_type": "markdown",
      "source": [
        "#**Segundo Semestre**"
      ],
      "metadata": {
        "id": "3RDf7HdP44ZJ"
      }
    },
    {
      "cell_type": "code",
      "source": [
        "print (\"Insira a primeira nota\")\n",
        "val3 = float(input ())\n",
        "print (\"Insira a segunda nota\")\n",
        "val4 = float(input ())\n",
        "print (\"A sua nota é:\", (float(val3) + float(val4))/2)"
      ],
      "metadata": {
        "colab": {
          "base_uri": "https://localhost:8080/"
        },
        "id": "y97FXL7B4711",
        "outputId": "5e5abf38-cd1b-407a-b74d-03a8d0cebc43"
      },
      "execution_count": null,
      "outputs": [
        {
          "output_type": "stream",
          "name": "stdout",
          "text": [
            "Insira a primeira nota\n",
            "8\n",
            "Insira a segunda nota\n",
            "9\n",
            "A sua nota é: 8.5\n"
          ]
        }
      ]
    },
    {
      "cell_type": "markdown",
      "source": [
        "#**NOTA FINAL**"
      ],
      "metadata": {
        "id": "QrSj2nF_5KBf"
      }
    },
    {
      "cell_type": "code",
      "source": [
        "val5 = val1 + val2 + val3 + val4\n",
        "num_convert = float (val5)\n",
        "print (\"A sua nota final é:\", float(val5)/4)"
      ],
      "metadata": {
        "colab": {
          "base_uri": "https://localhost:8080/"
        },
        "id": "AlMQihEl5M2u",
        "outputId": "0b99b3ed-4445-49c8-966f-2e09a72b8519"
      },
      "execution_count": null,
      "outputs": [
        {
          "output_type": "stream",
          "name": "stdout",
          "text": [
            "A sua nota final é: 7.8\n"
          ]
        }
      ]
    }
  ]
}