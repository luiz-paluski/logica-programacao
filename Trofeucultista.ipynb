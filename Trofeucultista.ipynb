{
  "nbformat": 4,
  "nbformat_minor": 0,
  "metadata": {
    "colab": {
      "provenance": []
    },
    "kernelspec": {
      "name": "python3",
      "display_name": "Python 3"
    },
    "language_info": {
      "name": "python"
    }
  },
  "cells": [
    {
      "cell_type": "code",
      "execution_count": null,
      "metadata": {
        "id": "E6B4DnH1KdBb"
      },
      "outputs": [],
      "source": []
    },
    {
      "cell_type": "markdown",
      "source": [
        "#**Troféu Cultista**"
      ],
      "metadata": {
        "id": "vZfMUfX_LAIa"
      }
    },
    {
      "cell_type": "code",
      "source": [
        "def chance_um_trofeu (cavernas, cultistas_por_caverna=2,chance_drop=0.1 ): #def (definir) a variável chance_um_trofeu para conter esses 3 elementos\n",
        "  return 1 - (1 - chance_drop) ** (cavernas * cultistas_por_caverna) # A conta fica = (chance de não dropar) elevado (numero de cavernas que eu fiz)\n",
        "\n",
        "print(chance_um_trofeu(3)) #Esse 7 é o número de cavernas que eu fiz"
      ],
      "metadata": {
        "colab": {
          "base_uri": "https://localhost:8080/"
        },
        "id": "4SSTYkEOQsPF",
        "outputId": "11fdd403-82b5-4e4b-86f3-ad8fd946d799"
      },
      "execution_count": null,
      "outputs": [
        {
          "output_type": "stream",
          "name": "stdout",
          "text": [
            "0.46855899999999995\n"
          ]
        }
      ]
    },
    {
      "cell_type": "code",
      "source": [
        "def chance_um_trofeu(cavernas, cultistas_por_caverna=2, chance_drop=0.1):\n",
        "    return 1 - (1 - chance_drop) ** (cavernas * cultistas_por_caverna)\n",
        "\n",
        "while True:\n",
        "    entrada = input(\"Quantas cavernas você explorou? (ou 'sair' para finalizar): \")\n",
        "    if entrada.lower() == 'sair':\n",
        "        print(\"Programa finalizado.\")\n",
        "        break\n",
        "    if not entrada.isdigit():\n",
        "        print(\"Por favor, digite um número válido.\")\n",
        "        continue\n",
        "\n",
        "    cavernas = int(entrada)\n",
        "    chance = chance_um_trofeu(cavernas)\n",
        "    print(f\"Chance de obter pelo menos 1 troféu: {chance * 100:.2f}%\\n\")\n"
      ],
      "metadata": {
        "id": "EK-T5MOiQuCd"
      },
      "execution_count": null,
      "outputs": []
    }
  ]
}