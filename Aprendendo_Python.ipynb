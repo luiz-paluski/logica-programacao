{
  "nbformat": 4,
  "nbformat_minor": 0,
  "metadata": {
    "colab": {
      "provenance": []
    },
    "kernelspec": {
      "name": "python3",
      "display_name": "Python 3"
    },
    "language_info": {
      "name": "python"
    }
  },
  "cells": [
    {
      "cell_type": "code",
      "execution_count": null,
      "metadata": {
        "id": "ByMeVNL6OIXu"
      },
      "outputs": [],
      "source": []
    },
    {
      "cell_type": "markdown",
      "source": [
        "# **Aprendendo Python**\n",
        "##subtitle\n",
        "###subtitle"
      ],
      "metadata": {
        "id": "oVyp6LJlQPUC"
      }
    },
    {
      "cell_type": "code",
      "source": [
        "print ('Olá mundo!')"
      ],
      "metadata": {
        "colab": {
          "base_uri": "https://localhost:8080/"
        },
        "id": "vbmnsqKaOb6e",
        "outputId": "199c6914-3c4e-4d5b-f2a9-6f9181c1f750"
      },
      "execution_count": null,
      "outputs": [
        {
          "output_type": "stream",
          "name": "stdout",
          "text": [
            "Olá mundo!\n"
          ]
        }
      ]
    },
    {
      "cell_type": "markdown",
      "source": [
        "#**Operadores Relacionais**"
      ],
      "metadata": {
        "id": "7kJ54Bk2SXZe"
      }
    },
    {
      "cell_type": "code",
      "source": [
        "1<2"
      ],
      "metadata": {
        "colab": {
          "base_uri": "https://localhost:8080/"
        },
        "id": "jMzqJFPOR2QG",
        "outputId": "6c4e85da-b872-4d16-f349-92f23f4cddd8"
      },
      "execution_count": null,
      "outputs": [
        {
          "output_type": "execute_result",
          "data": {
            "text/plain": [
              "True"
            ]
          },
          "metadata": {},
          "execution_count": 1
        }
      ]
    },
    {
      "cell_type": "code",
      "source": [
        "1<=10"
      ],
      "metadata": {
        "colab": {
          "base_uri": "https://localhost:8080/"
        },
        "id": "qeErLICpSDFF",
        "outputId": "e17eafc0-0b88-4aa3-b084-d6494b4925b2"
      },
      "execution_count": null,
      "outputs": [
        {
          "output_type": "execute_result",
          "data": {
            "text/plain": [
              "True"
            ]
          },
          "metadata": {},
          "execution_count": 10
        }
      ]
    },
    {
      "cell_type": "code",
      "source": [
        "2>1"
      ],
      "metadata": {
        "colab": {
          "base_uri": "https://localhost:8080/"
        },
        "id": "wu86icdZSGTW",
        "outputId": "db4fb8a4-d656-468b-e7a8-abc8ae54f26e"
      },
      "execution_count": null,
      "outputs": [
        {
          "output_type": "execute_result",
          "data": {
            "text/plain": [
              "True"
            ]
          },
          "metadata": {},
          "execution_count": 11
        }
      ]
    },
    {
      "cell_type": "code",
      "source": [
        "2>=2"
      ],
      "metadata": {
        "colab": {
          "base_uri": "https://localhost:8080/"
        },
        "id": "qa_S4ii0SIT-",
        "outputId": "b00c54e0-47ba-4b9d-c25e-8e0a5908f782"
      },
      "execution_count": null,
      "outputs": [
        {
          "output_type": "execute_result",
          "data": {
            "text/plain": [
              "True"
            ]
          },
          "metadata": {},
          "execution_count": 12
        }
      ]
    },
    {
      "cell_type": "code",
      "source": [
        "5==5"
      ],
      "metadata": {
        "colab": {
          "base_uri": "https://localhost:8080/"
        },
        "id": "Yr6bYrynSKXu",
        "outputId": "0063e1fe-6668-4632-d55e-09560e925c85"
      },
      "execution_count": null,
      "outputs": [
        {
          "output_type": "execute_result",
          "data": {
            "text/plain": [
              "True"
            ]
          },
          "metadata": {},
          "execution_count": 13
        }
      ]
    },
    {
      "cell_type": "code",
      "source": [
        "5!=8"
      ],
      "metadata": {
        "colab": {
          "base_uri": "https://localhost:8080/"
        },
        "id": "fbaRA7IXSMe2",
        "outputId": "16d8bb32-42af-453a-e18e-087d0ed402f4"
      },
      "execution_count": null,
      "outputs": [
        {
          "output_type": "execute_result",
          "data": {
            "text/plain": [
              "True"
            ]
          },
          "metadata": {},
          "execution_count": 14
        }
      ]
    },
    {
      "cell_type": "markdown",
      "source": [
        "****\n",
        "****"
      ],
      "metadata": {
        "id": "cJaMj6oTSwHe"
      }
    },
    {
      "cell_type": "code",
      "source": [],
      "metadata": {
        "id": "-Dp_9XXDSQp3"
      },
      "execution_count": null,
      "outputs": []
    },
    {
      "cell_type": "markdown",
      "source": [
        "#**Operadores Aritméticos**"
      ],
      "metadata": {
        "id": "LQJ0vT9f0OS1"
      }
    },
    {
      "cell_type": "markdown",
      "source": [
        "# Adição\n",
        "10+2"
      ],
      "metadata": {
        "id": "2WIhDWJI0XjR"
      }
    },
    {
      "cell_type": "code",
      "source": [
        "# Subtração\n",
        "10 -2"
      ],
      "metadata": {
        "colab": {
          "base_uri": "https://localhost:8080/"
        },
        "id": "vzcAigY6R8hI",
        "outputId": "80c9b61a-3ecb-4256-c00a-adb1e12c7c4d"
      },
      "execution_count": null,
      "outputs": [
        {
          "output_type": "execute_result",
          "data": {
            "text/plain": [
              "8"
            ]
          },
          "metadata": {},
          "execution_count": 2
        }
      ]
    },
    {
      "cell_type": "code",
      "source": [
        "# Multiplicação\n",
        "10 * 2"
      ],
      "metadata": {
        "colab": {
          "base_uri": "https://localhost:8080/"
        },
        "id": "gY3KW_14SEkD",
        "outputId": "b34d220a-3294-470d-b858-859cbc037b72"
      },
      "execution_count": null,
      "outputs": [
        {
          "output_type": "execute_result",
          "data": {
            "text/plain": [
              "20"
            ]
          },
          "metadata": {},
          "execution_count": 4
        }
      ]
    },
    {
      "cell_type": "code",
      "source": [
        "# Divisão\n",
        "10 / 2"
      ],
      "metadata": {
        "colab": {
          "base_uri": "https://localhost:8080/"
        },
        "id": "1PV52c3wSKxU",
        "outputId": "77a77f7f-e11f-4c8a-d648-25cb4283b382"
      },
      "execution_count": null,
      "outputs": [
        {
          "output_type": "execute_result",
          "data": {
            "text/plain": [
              "5.0"
            ]
          },
          "metadata": {},
          "execution_count": 5
        }
      ]
    },
    {
      "cell_type": "code",
      "source": [
        "# Divisão inteira\n",
        "10 // 2"
      ],
      "metadata": {
        "colab": {
          "base_uri": "https://localhost:8080/"
        },
        "id": "9WNzTPexSTGk",
        "outputId": "fa004eca-7ae7-48ee-9166-cfdb6f4cdc7c"
      },
      "execution_count": null,
      "outputs": [
        {
          "output_type": "execute_result",
          "data": {
            "text/plain": [
              "5"
            ]
          },
          "metadata": {},
          "execution_count": 6
        }
      ]
    },
    {
      "cell_type": "code",
      "source": [
        "# Resto de divisão\n",
        "10 % 2"
      ],
      "metadata": {
        "colab": {
          "base_uri": "https://localhost:8080/"
        },
        "id": "gpLOwglJSZsL",
        "outputId": "7b3fe363-9cf6-42eb-a883-813a41bba8ac"
      },
      "execution_count": null,
      "outputs": [
        {
          "output_type": "execute_result",
          "data": {
            "text/plain": [
              "0"
            ]
          },
          "metadata": {},
          "execution_count": 7
        }
      ]
    },
    {
      "cell_type": "code",
      "source": [
        "# Potenciação\n",
        "10 ** 2"
      ],
      "metadata": {
        "colab": {
          "base_uri": "https://localhost:8080/"
        },
        "id": "KzWD5w7MSfJE",
        "outputId": "1615fe2a-aeb8-4726-ec73-d609bb898d26"
      },
      "execution_count": null,
      "outputs": [
        {
          "output_type": "execute_result",
          "data": {
            "text/plain": [
              "100"
            ]
          },
          "metadata": {},
          "execution_count": 8
        }
      ]
    },
    {
      "cell_type": "code",
      "source": [],
      "metadata": {
        "id": "0N51OjnCTCu7"
      },
      "execution_count": null,
      "outputs": []
    },
    {
      "cell_type": "markdown",
      "source": [
        "# **Operadores Relacionais**"
      ],
      "metadata": {
        "id": "TZCRqPAyS-yF"
      }
    },
    {
      "cell_type": "code",
      "source": [
        "# Menor\n",
        "10 < 2"
      ],
      "metadata": {
        "id": "mGDa1z_D3gnM",
        "colab": {
          "base_uri": "https://localhost:8080/"
        },
        "outputId": "06e2d3e5-d5fd-4f24-d9ee-6a4952a5bb3c"
      },
      "execution_count": null,
      "outputs": [
        {
          "output_type": "execute_result",
          "data": {
            "text/plain": [
              "False"
            ]
          },
          "metadata": {},
          "execution_count": 9
        }
      ]
    },
    {
      "cell_type": "code",
      "source": [
        "# Menor ou igual\n",
        "10 <= 2"
      ],
      "metadata": {
        "colab": {
          "base_uri": "https://localhost:8080/"
        },
        "id": "vDeSqP2bTb0k",
        "outputId": "52e7893a-d668-4174-eb51-ea909d2dc548"
      },
      "execution_count": null,
      "outputs": [
        {
          "output_type": "execute_result",
          "data": {
            "text/plain": [
              "False"
            ]
          },
          "metadata": {},
          "execution_count": 11
        }
      ]
    },
    {
      "cell_type": "code",
      "source": [
        "# Maior\n",
        "10 > 2"
      ],
      "metadata": {
        "colab": {
          "base_uri": "https://localhost:8080/"
        },
        "id": "sP1Jr4NpTMac",
        "outputId": "24ab9f41-4d76-476a-e4dd-a7dc4c5c2a2d"
      },
      "execution_count": null,
      "outputs": [
        {
          "output_type": "execute_result",
          "data": {
            "text/plain": [
              "True"
            ]
          },
          "metadata": {},
          "execution_count": 10
        }
      ]
    },
    {
      "cell_type": "code",
      "source": [
        "# Maior ou igual\n",
        "10 >= 2"
      ],
      "metadata": {
        "colab": {
          "base_uri": "https://localhost:8080/"
        },
        "id": "kkXnlI9vTjvj",
        "outputId": "1aacf44a-fa3f-4d32-d10e-6b0b4bac43ed"
      },
      "execution_count": null,
      "outputs": [
        {
          "output_type": "execute_result",
          "data": {
            "text/plain": [
              "True"
            ]
          },
          "metadata": {},
          "execution_count": 12
        }
      ]
    },
    {
      "cell_type": "code",
      "source": [
        "# Igual\n",
        "10 == 2"
      ],
      "metadata": {
        "colab": {
          "base_uri": "https://localhost:8080/"
        },
        "id": "v1rcMRaWTrsD",
        "outputId": "1f85c512-6ede-43b8-e738-55b485415152"
      },
      "execution_count": null,
      "outputs": [
        {
          "output_type": "execute_result",
          "data": {
            "text/plain": [
              "False"
            ]
          },
          "metadata": {},
          "execution_count": 13
        }
      ]
    },
    {
      "cell_type": "code",
      "source": [
        "# Diferente\n",
        "10 != 2"
      ],
      "metadata": {
        "colab": {
          "base_uri": "https://localhost:8080/"
        },
        "id": "Q5KOBbLITzl7",
        "outputId": "f0c16bf7-2fbb-42a1-f586-81bb81fb8007"
      },
      "execution_count": null,
      "outputs": [
        {
          "output_type": "execute_result",
          "data": {
            "text/plain": [
              "True"
            ]
          },
          "metadata": {},
          "execution_count": 14
        }
      ]
    },
    {
      "cell_type": "markdown",
      "source": [
        "# **Operadores lógicos**\n",
        "\n",
        "\n",
        "* And\n",
        "* Or\n",
        "* Not\n",
        "\n",
        "\n"
      ],
      "metadata": {
        "id": "82rzZ8iKUEcd"
      }
    },
    {
      "cell_type": "markdown",
      "source": [
        "# **Tabela Verdade**\n",
        "\n",
        "*And"
      ],
      "metadata": {
        "id": "N7DkXrUZU_9R"
      }
    },
    {
      "cell_type": "code",
      "source": [
        "print (10 > 2 and 4< 6) # V and V - V\n",
        "print (10 > 2 and 4> 6) # V and F - F\n",
        "print (10 < 2 and 4< 6) # F and V - F\n",
        "print (10 < 2 and 4> 6) # F and F - F"
      ],
      "metadata": {
        "colab": {
          "base_uri": "https://localhost:8080/"
        },
        "id": "Y5XE_vFIVJDl",
        "outputId": "f5cfd983-1424-4ed4-873f-0ce08081fb70"
      },
      "execution_count": null,
      "outputs": [
        {
          "output_type": "stream",
          "name": "stdout",
          "text": [
            "True\n",
            "False\n",
            "False\n",
            "False\n"
          ]
        }
      ]
    },
    {
      "cell_type": "markdown",
      "source": [
        "*Or"
      ],
      "metadata": {
        "id": "0o1kT3h4Vmtn"
      }
    },
    {
      "cell_type": "code",
      "source": [
        "print(10 > 2 or 4< 6) # V or V - V\n",
        "print(10 > 2 or 4> 6) # V or F - V\n",
        "print(10 < 2 or 4< 6) # F or V - V\n",
        "print(10 < 2 or 4> 6) # F or F - F"
      ],
      "metadata": {
        "id": "tX7ZfHZPVpVl"
      },
      "execution_count": null,
      "outputs": []
    },
    {
      "cell_type": "markdown",
      "source": [
        "*Not"
      ],
      "metadata": {
        "id": "RHZeFxgsYxCp"
      }
    },
    {
      "cell_type": "code",
      "source": [
        "not 10 > 2 # V - F"
      ],
      "metadata": {
        "colab": {
          "base_uri": "https://localhost:8080/"
        },
        "id": "y-hK3iLyYyv1",
        "outputId": "b0e91e03-2ab4-4945-f427-a36dd3234e95"
      },
      "execution_count": null,
      "outputs": [
        {
          "output_type": "execute_result",
          "data": {
            "text/plain": [
              "False"
            ]
          },
          "metadata": {},
          "execution_count": 17
        }
      ]
    },
    {
      "cell_type": "code",
      "source": [
        "not 10 < 2 # F - V"
      ],
      "metadata": {
        "colab": {
          "base_uri": "https://localhost:8080/"
        },
        "id": "aIZFtE3RaJQk",
        "outputId": "7ed3b2cb-48a3-4a02-9571-53719c779e41"
      },
      "execution_count": null,
      "outputs": [
        {
          "output_type": "execute_result",
          "data": {
            "text/plain": [
              "True"
            ]
          },
          "metadata": {},
          "execution_count": 18
        }
      ]
    },
    {
      "cell_type": "markdown",
      "source": [
        "#**Variáveis**\n",
        "### Variáveis estão alocadas em espaços na memória"
      ],
      "metadata": {
        "id": "dfvIFtzfdG8N"
      }
    },
    {
      "cell_type": "code",
      "source": [
        "# Nome da variável é \"X\" que armazena o valor 10 em um espaço na memória\n",
        "x = 10\n",
        "print (x) # Utilizar a referência no nome atribuído"
      ],
      "metadata": {
        "colab": {
          "base_uri": "https://localhost:8080/"
        },
        "id": "Z1WOyADvdRGn",
        "outputId": "73cfa225-6a7f-43cb-ebd2-ebf20e3369fa"
      },
      "execution_count": null,
      "outputs": [
        {
          "output_type": "stream",
          "name": "stdout",
          "text": [
            "10\n"
          ]
        }
      ]
    },
    {
      "cell_type": "markdown",
      "source": [
        "Regras\n",
        "\n",
        "**Case Sensitive**\n",
        "\n",
        "A != a\n",
        "\n",
        "**Boas práticas com variáveis**\n",
        "\n",
        "> Exemplo: Multiplicação de 2 números\n",
        "\n",
        "Não usar\n",
        "* Multiplicação\n",
        "* MultiplicaçãoDeDoisNumeros\n",
        "* M\n",
        "\n",
        "Usar\n",
        "* multiplicacao\n",
        "* mult\n",
        "* mult_total(snake_case)\n"
      ],
      "metadata": {
        "id": "IgUnuOE5d7lA"
      }
    },
    {
      "cell_type": "markdown",
      "source": [
        "# **Regras de variáveis**\n",
        "\n",
        "## **Nome de variável**\n",
        "* Começar com letra (a-z, A-Z) ou sublinhado (_) (Dê preferência à minúscula)\n",
        "* São Case Sensitive (Diferença entra maiúscula e minúscula)\n",
        "* Exemplo\n",
        "\n",
        "--> A != a\n",
        "\n",
        "## **Boas práticas para nome de variáveis**\n",
        "\n",
        "* Usar nomes que definam o que ela faz no programa\n",
        "* Não usar nomes longos\n",
        "\n",
        "![Tabela.jpeg](data:image/jpeg;base64,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)\n",
        "\n"
      ],
      "metadata": {
        "id": "J4MvC9NQfkfJ"
      }
    },
    {
      "cell_type": "markdown",
      "source": [
        "# **Tipos de variáveis**\n",
        "### **Python é uma linguagem de alto nível**\n",
        "* Não é necessário especificar o tipo de dado quando declarar a variável\n",
        "* Python define o tipo de dados na declaração\n",
        "\n",
        "Tipo:\n",
        "\n",
        "* Int (inteiro) num = 10\n",
        "* Float (Real) num = 10.5 (**SEMPRE PONTO, NUNCA VÍRGULA**)\n",
        "* String (Texto) nome = \"Luiz\" (  **'**  ou   **\"**  funciona igual)"
      ],
      "metadata": {
        "id": "rltUVhBYtJRk"
      }
    },
    {
      "cell_type": "markdown",
      "source": [
        "# **Visualização de Variáveis e textos**"
      ],
      "metadata": {
        "id": "2vqhfgz8Ec0c"
      }
    },
    {
      "cell_type": "code",
      "source": [
        "print (\"Conhecendo o comando print\")\n",
        "x = 8\n",
        "print (x)"
      ],
      "metadata": {
        "colab": {
          "base_uri": "https://localhost:8080/"
        },
        "id": "Fg5wI6bOEhlF",
        "outputId": "834a40e2-f8dc-4109-f2f5-3944c86c819b"
      },
      "execution_count": null,
      "outputs": [
        {
          "output_type": "stream",
          "name": "stdout",
          "text": [
            "Conhecendo o comando print\n",
            "8\n"
          ]
        }
      ]
    },
    {
      "cell_type": "code",
      "source": [
        "y = 10\n",
        "soma = x + y\n",
        "print (soma)"
      ],
      "metadata": {
        "colab": {
          "base_uri": "https://localhost:8080/"
        },
        "id": "9NI0usBiGPX9",
        "outputId": "6c7c122a-45b0-4657-e889-70ec70308204"
      },
      "execution_count": null,
      "outputs": [
        {
          "output_type": "stream",
          "name": "stdout",
          "text": [
            "18\n"
          ]
        }
      ]
    },
    {
      "cell_type": "code",
      "source": [
        "name = \"Luiz\"\n",
        "print(name)"
      ],
      "metadata": {
        "colab": {
          "base_uri": "https://localhost:8080/"
        },
        "id": "1Hrhrt91GhyM",
        "outputId": "914c22f4-a87f-499b-f9ad-009d7f85f5c7"
      },
      "execution_count": null,
      "outputs": [
        {
          "output_type": "stream",
          "name": "stdout",
          "text": [
            "Luiz\n"
          ]
        }
      ]
    },
    {
      "cell_type": "markdown",
      "source": [
        "#**Concatenação**"
      ],
      "metadata": {
        "id": "tjTvHDp5G6_4"
      }
    },
    {
      "cell_type": "code",
      "source": [
        "x = 5\n",
        "print (\"O valor de x é:\",x)"
      ],
      "metadata": {
        "colab": {
          "base_uri": "https://localhost:8080/"
        },
        "id": "l-3D4txWHCBN",
        "outputId": "8d4f5746-222b-47e5-8ac4-9c7483a95de0"
      },
      "execution_count": null,
      "outputs": [
        {
          "output_type": "stream",
          "name": "stdout",
          "text": [
            "O valor de x é: 5\n"
          ]
        }
      ]
    },
    {
      "cell_type": "code",
      "source": [
        "print (\"O valor de x é\", x, \"e o dobro é\",x*2)"
      ],
      "metadata": {
        "colab": {
          "base_uri": "https://localhost:8080/"
        },
        "id": "1MxiINc0Hlhc",
        "outputId": "7a66a219-6887-4f68-f562-6cbc2fbb7a21"
      },
      "execution_count": null,
      "outputs": [
        {
          "output_type": "stream",
          "name": "stdout",
          "text": [
            "O valor de x é 5 e o dobro é 10\n"
          ]
        }
      ]
    },
    {
      "cell_type": "code",
      "source": [
        "print (\"Eu,\", name, \",Tirei nota:\",x,\"na prova de Python\")"
      ],
      "metadata": {
        "colab": {
          "base_uri": "https://localhost:8080/"
        },
        "id": "6pgyUdrXI69E",
        "outputId": "0bb9dfd5-c33e-4a79-c586-b7dd089b715d"
      },
      "execution_count": null,
      "outputs": [
        {
          "output_type": "stream",
          "name": "stdout",
          "text": [
            "Eu, Luiz ,Tirei nota: 5 na prova de Python\n"
          ]
        }
      ]
    },
    {
      "cell_type": "code",
      "source": [
        "y = 10; z = 20 + x - y\n",
        "print(\"Declarar variáveis na mesma linha\", y,\"e\", z) #Usar o ponto e vírgula"
      ],
      "metadata": {
        "colab": {
          "base_uri": "https://localhost:8080/"
        },
        "id": "ywXUhHCvJEaF",
        "outputId": "ee11fb82-de1f-470b-dad9-63ce1f793524"
      },
      "execution_count": null,
      "outputs": [
        {
          "output_type": "stream",
          "name": "stdout",
          "text": [
            "Declarar variáveis na mesma linha 10 e 15\n"
          ]
        }
      ]
    },
    {
      "cell_type": "markdown",
      "source": [
        "# **Type**"
      ],
      "metadata": {
        "id": "B40MMZyDKA5r"
      }
    },
    {
      "cell_type": "code",
      "source": [
        "x = 10\n",
        "type (x)\n",
        "print(\"x\", type(x))\n",
        "\n",
        "name = \"Luiz\"\n",
        "print(\"name\", type(name))\n",
        "\n",
        "num = \"100\"\n",
        "num_convert = int (num) # Converter Variável\n",
        "print (\"num\", type (num))\n",
        "print (\"num_convert\", type (num_convert))\n",
        "\n",
        "num_float = float (num)\n",
        "print (\"num_float\", (num_float))"
      ],
      "metadata": {
        "colab": {
          "base_uri": "https://localhost:8080/"
        },
        "id": "NjoZyZGyKE-l",
        "outputId": "4714c7b3-ca11-4aaf-deaa-734c3f5c2717"
      },
      "execution_count": null,
      "outputs": [
        {
          "output_type": "stream",
          "name": "stdout",
          "text": [
            "x <class 'int'>\n",
            "name <class 'str'>\n",
            "num <class 'str'>\n",
            "num_convert <class 'int'>\n",
            "num_float 100.0\n"
          ]
        }
      ]
    },
    {
      "cell_type": "markdown",
      "source": [
        "# **INPUT**"
      ],
      "metadata": {
        "id": "6CGbwShaXEpU"
      }
    },
    {
      "cell_type": "code",
      "source": [
        "name = input (\"Digite o nome do usuário\") # Aguarda o usuário digitar algo\n",
        "print (name)"
      ],
      "metadata": {
        "colab": {
          "base_uri": "https://localhost:8080/"
        },
        "id": "HanOOhHDCOpy",
        "outputId": "dd3622d6-2373-4c72-83c1-31ef429d844d"
      },
      "execution_count": null,
      "outputs": [
        {
          "output_type": "stream",
          "name": "stdout",
          "text": [
            "Digite o nome do usuárioJoão\n",
            "João\n"
          ]
        }
      ]
    },
    {
      "cell_type": "code",
      "source": [
        "valor = input (\"Digite a nota\")\n",
        "print (name, \"sua nota foi\", valor)"
      ],
      "metadata": {
        "colab": {
          "base_uri": "https://localhost:8080/"
        },
        "id": "nUoiZSWHDMlP",
        "outputId": "266bb56e-f7df-4595-dc38-fb1c6f2ed55b"
      },
      "execution_count": null,
      "outputs": [
        {
          "output_type": "stream",
          "name": "stdout",
          "text": [
            "Digite a nota10\n",
            "João sua nota foi 10\n"
          ]
        }
      ]
    },
    {
      "cell_type": "code",
      "source": [
        "valor = input (\"digite o valor do produto\")\n",
        "print (valor)"
      ],
      "metadata": {
        "colab": {
          "base_uri": "https://localhost:8080/"
        },
        "id": "iF3XNd_TECgX",
        "outputId": "22afe2dd-1eac-4b0b-8717-cf12c8798140"
      },
      "execution_count": null,
      "outputs": [
        {
          "output_type": "stream",
          "name": "stdout",
          "text": [
            "digite o valor do produto100\n",
            "100\n"
          ]
        }
      ]
    },
    {
      "cell_type": "code",
      "source": [
        "desconto = int(valor) - 5 #Convertendo o (valor) para INT apenas nesse calculo\n",
        "print (desconto)"
      ],
      "metadata": {
        "colab": {
          "base_uri": "https://localhost:8080/"
        },
        "collapsed": true,
        "id": "FEY8f_aPEOIx",
        "outputId": "6a98fa25-3774-489b-c9d9-537eb416f196"
      },
      "execution_count": null,
      "outputs": [
        {
          "output_type": "stream",
          "name": "stdout",
          "text": [
            "95\n"
          ]
        }
      ]
    },
    {
      "cell_type": "code",
      "source": [
        "valor_convert = int(valor) #Convertendo o (valor) para INT em todos os calculos\n",
        "desconto = valor_convert -5\n",
        "print (desconto)"
      ],
      "metadata": {
        "colab": {
          "base_uri": "https://localhost:8080/"
        },
        "id": "zr7gNXnYEyzY",
        "outputId": "3f5b301b-25eb-4623-e8b3-3643e3a06a28"
      },
      "execution_count": null,
      "outputs": [
        {
          "output_type": "stream",
          "name": "stdout",
          "text": [
            "95\n"
          ]
        }
      ]
    },
    {
      "cell_type": "markdown",
      "source": [
        "# **Condicional**"
      ],
      "metadata": {
        "id": "CR1cXKmMBmGc"
      }
    },
    {
      "cell_type": "code",
      "source": [
        "# If\n",
        "if 5 <10:\n",
        "  print (\"Verdadeiro\")"
      ],
      "metadata": {
        "colab": {
          "base_uri": "https://localhost:8080/"
        },
        "id": "DNUNFqKmBqt9",
        "outputId": "017178d5-484a-481f-83dc-9a812459be51"
      },
      "execution_count": null,
      "outputs": [
        {
          "output_type": "stream",
          "name": "stdout",
          "text": [
            "Verdadeiro\n"
          ]
        }
      ]
    },
    {
      "cell_type": "code",
      "source": [
        "# If / Else\n",
        "num1 = 10\n",
        "num2 = 20\n",
        "if num1 < num2:\n",
        "  print (\"Verdadeiro\")\n",
        "else:\n",
        "  print (\"Falso\")"
      ],
      "metadata": {
        "id": "pfFO5BBDHr7K",
        "colab": {
          "base_uri": "https://localhost:8080/"
        },
        "outputId": "46e199b6-e22d-42ee-f6d7-d07a470e5352"
      },
      "execution_count": null,
      "outputs": [
        {
          "output_type": "stream",
          "name": "stdout",
          "text": [
            "Verdadeiro\n"
          ]
        }
      ]
    },
    {
      "cell_type": "code",
      "source": [
        "# If / Elif / Else\n",
        "num1 = 10\n",
        "num2 = 10\n",
        "if num1 > num2:\n",
        "  print (\"O num1 é o maior número\")\n",
        "elif num1 < num2:\n",
        "  print (\"O num2 é o maior número\")\n",
        "else:\n",
        "  print (\"Os dois são iguais\")"
      ],
      "metadata": {
        "colab": {
          "base_uri": "https://localhost:8080/"
        },
        "id": "QDjrKc5fCu-l",
        "outputId": "4801fac3-4cb1-45b4-fd54-4ffd37d52628"
      },
      "execution_count": null,
      "outputs": [
        {
          "output_type": "stream",
          "name": "stdout",
          "text": [
            "Os dois são iguais\n"
          ]
        }
      ]
    },
    {
      "cell_type": "markdown",
      "source": [
        "#**Condicional com operadores lógicos**"
      ],
      "metadata": {
        "id": "dZB6Il0BDlEj"
      }
    },
    {
      "cell_type": "code",
      "source": [
        "num1 = 10\n",
        "num2 = 5\n",
        "num3 = 2\n",
        "if (num1 > num2) and (num1 > num3):\n",
        "  print (\"O num1 é o maior número\")\n",
        "else:\n",
        "  print (\"O num1 não é o maior número\")"
      ],
      "metadata": {
        "colab": {
          "base_uri": "https://localhost:8080/"
        },
        "id": "gjYUuGkVDpaj",
        "outputId": "a32428c6-078e-46ed-a988-6f907e323889"
      },
      "execution_count": null,
      "outputs": [
        {
          "output_type": "stream",
          "name": "stdout",
          "text": [
            "O num1 é o maior número\n"
          ]
        }
      ]
    },
    {
      "cell_type": "markdown",
      "source": [
        "#**Listas, tuplas e dicionários**"
      ],
      "metadata": {
        "id": "4pmMjG0SDGzC"
      }
    },
    {
      "cell_type": "code",
      "source": [
        " # Lista\n",
        " [1,2,3,4,5]"
      ],
      "metadata": {
        "colab": {
          "base_uri": "https://localhost:8080/"
        },
        "collapsed": true,
        "id": "icMy-QVODOP8",
        "outputId": "613d04ff-af8e-4d9d-c459-a37baee8bdb0"
      },
      "execution_count": null,
      "outputs": [
        {
          "output_type": "execute_result",
          "data": {
            "text/plain": [
              "[1, 2, 3, 4, 5]"
            ]
          },
          "metadata": {},
          "execution_count": 4
        }
      ]
    },
    {
      "cell_type": "code",
      "source": [
        "# Tupla\n",
        "(1,2,3,4,5)"
      ],
      "metadata": {
        "id": "mGXKUmecDj3N"
      },
      "execution_count": null,
      "outputs": []
    },
    {
      "cell_type": "code",
      "source": [
        "# Dicionário\n",
        "{\"num1\": 1, \"num2\": 2}"
      ],
      "metadata": {
        "colab": {
          "base_uri": "https://localhost:8080/"
        },
        "collapsed": true,
        "id": "ENXA8xtRD9w4",
        "outputId": "95110626-1a10-44c1-bb22-c90fb906e1e3"
      },
      "execution_count": null,
      "outputs": [
        {
          "output_type": "execute_result",
          "data": {
            "text/plain": [
              "{'num1': 1, 'num2': 2}"
            ]
          },
          "metadata": {},
          "execution_count": 9
        }
      ]
    },
    {
      "cell_type": "markdown",
      "source": [
        "#**Lista**"
      ],
      "metadata": {
        "id": "B3LlqYzkEP16"
      }
    },
    {
      "cell_type": "code",
      "source": [
        "lista = [5, \"Luiz\", 8.9]"
      ],
      "metadata": {
        "id": "w-DmRNdPE3kv"
      },
      "execution_count": null,
      "outputs": []
    },
    {
      "cell_type": "code",
      "source": [
        "type (lista)"
      ],
      "metadata": {
        "colab": {
          "base_uri": "https://localhost:8080/"
        },
        "id": "WW2Tg3NsFOeo",
        "outputId": "babf6f0a-2a6c-4f9a-b050-5769e613dc14"
      },
      "execution_count": null,
      "outputs": [
        {
          "output_type": "execute_result",
          "data": {
            "text/plain": [
              "list"
            ]
          },
          "metadata": {},
          "execution_count": 11
        }
      ]
    },
    {
      "cell_type": "code",
      "source": [
        "lista.append (\"João\") # Adicionar um elemento na lista"
      ],
      "metadata": {
        "id": "xVoMsdnoFTTg"
      },
      "execution_count": null,
      "outputs": []
    },
    {
      "cell_type": "code",
      "source": [
        "print (lista)\n",
        "print (lista[3]) # Acessar um elemento da lista"
      ],
      "metadata": {
        "colab": {
          "base_uri": "https://localhost:8080/"
        },
        "id": "LC2Dr7eVFq4m",
        "outputId": "6c6f7ff7-b75a-4d5e-d300-eb68ddcd86a5"
      },
      "execution_count": null,
      "outputs": [
        {
          "output_type": "stream",
          "name": "stdout",
          "text": [
            "[5, 'Luiz', 8.9, 'João']\n",
            "João\n"
          ]
        }
      ]
    },
    {
      "cell_type": "markdown",
      "source": [
        "#**Tupla**"
      ],
      "metadata": {
        "id": "uTPyB1o7GU9f"
      }
    },
    {
      "cell_type": "code",
      "source": [
        "tupla = (5, \"Luiz\", 8.9)"
      ],
      "metadata": {
        "id": "FixGdIJBGYkG"
      },
      "execution_count": null,
      "outputs": []
    },
    {
      "cell_type": "code",
      "source": [
        "type (tupla)"
      ],
      "metadata": {
        "colab": {
          "base_uri": "https://localhost:8080/"
        },
        "id": "hD81MoLaGfit",
        "outputId": "0db26f2a-c28e-4fb0-c4f1-c9e515c825a4"
      },
      "execution_count": null,
      "outputs": [
        {
          "output_type": "execute_result",
          "data": {
            "text/plain": [
              "tuple"
            ]
          },
          "metadata": {},
          "execution_count": 23
        }
      ]
    },
    {
      "cell_type": "code",
      "source": [
        "tupla.append (\"João\") # Não é possível adicionar um elemento na tupla"
      ],
      "metadata": {
        "colab": {
          "base_uri": "https://localhost:8080/",
          "height": 146
        },
        "collapsed": true,
        "id": "oyAyHSd-GkK_",
        "outputId": "07957e9b-1aac-420f-b419-b9952b2d8f8a"
      },
      "execution_count": null,
      "outputs": [
        {
          "output_type": "error",
          "ename": "AttributeError",
          "evalue": "'tuple' object has no attribute 'append'",
          "traceback": [
            "\u001b[0;31m---------------------------------------------------------------------------\u001b[0m",
            "\u001b[0;31mAttributeError\u001b[0m                            Traceback (most recent call last)",
            "\u001b[0;32m<ipython-input-27-1524430599>\u001b[0m in \u001b[0;36m<cell line: 0>\u001b[0;34m()\u001b[0m\n\u001b[0;32m----> 1\u001b[0;31m \u001b[0mtupla\u001b[0m\u001b[0;34m.\u001b[0m\u001b[0mappend\u001b[0m \u001b[0;34m(\u001b[0m\u001b[0;34m\"João\"\u001b[0m\u001b[0;34m)\u001b[0m \u001b[0;31m# Não é possível adicionar um elemento na tupla\u001b[0m\u001b[0;34m\u001b[0m\u001b[0;34m\u001b[0m\u001b[0m\n\u001b[0m",
            "\u001b[0;31mAttributeError\u001b[0m: 'tuple' object has no attribute 'append'"
          ]
        }
      ]
    },
    {
      "cell_type": "code",
      "source": [
        "print (tupla)\n",
        "print (tupla[2]) # Acessar um elemento da tupla"
      ],
      "metadata": {
        "colab": {
          "base_uri": "https://localhost:8080/"
        },
        "id": "2qHH6dzsGyw3",
        "outputId": "5708cba9-1517-4fc7-b2fb-f73dc1db3f5d"
      },
      "execution_count": null,
      "outputs": [
        {
          "output_type": "stream",
          "name": "stdout",
          "text": [
            "(5, 'Luiz', 8.9)\n",
            "8.9\n"
          ]
        }
      ]
    },
    {
      "cell_type": "markdown",
      "source": [
        "#**Dicionário**"
      ],
      "metadata": {
        "id": "ELAgxd89HYwv"
      }
    },
    {
      "cell_type": "code",
      "source": [
        "dicionario = {\"nome\":\"Luiz\", \"cidade\": \"Niterói\"}"
      ],
      "metadata": {
        "id": "_zJKMi-pHn63"
      },
      "execution_count": null,
      "outputs": []
    },
    {
      "cell_type": "code",
      "source": [
        "type(dicionario)"
      ],
      "metadata": {
        "colab": {
          "base_uri": "https://localhost:8080/"
        },
        "id": "j6qXphgXIB2H",
        "outputId": "bb5b95b6-e903-4b35-f302-cbb294bfccff"
      },
      "execution_count": null,
      "outputs": [
        {
          "output_type": "execute_result",
          "data": {
            "text/plain": [
              "dict"
            ]
          },
          "metadata": {},
          "execution_count": 32
        }
      ]
    },
    {
      "cell_type": "code",
      "source": [
        "print(dicionario)"
      ],
      "metadata": {
        "colab": {
          "base_uri": "https://localhost:8080/"
        },
        "id": "gGsdxyFqIFlm",
        "outputId": "24c06640-a54e-47a1-8031-3210d2248338"
      },
      "execution_count": null,
      "outputs": [
        {
          "output_type": "stream",
          "name": "stdout",
          "text": [
            "{'nome': 'Luiz', 'cidade': 'Niterói'}\n"
          ]
        }
      ]
    },
    {
      "cell_type": "code",
      "source": [
        "print(dicionario [\"ultimo_nome\"])"
      ],
      "metadata": {
        "colab": {
          "base_uri": "https://localhost:8080/"
        },
        "id": "z0Wk0NKeIPpf",
        "outputId": "0b733bfe-7f75-4300-f024-21502178036f"
      },
      "execution_count": null,
      "outputs": [
        {
          "output_type": "stream",
          "name": "stdout",
          "text": [
            "Paluski\n"
          ]
        }
      ]
    },
    {
      "cell_type": "code",
      "source": [
        "dicionario[\"ultimo_nome\"] = \"Paluski\""
      ],
      "metadata": {
        "id": "EDw9mhYgISs-"
      },
      "execution_count": null,
      "outputs": []
    },
    {
      "cell_type": "code",
      "source": [
        "print(dicionario)"
      ],
      "metadata": {
        "colab": {
          "base_uri": "https://localhost:8080/"
        },
        "id": "7Qyk0Me6JTg3",
        "outputId": "69b8b971-0658-416d-f338-77ed2a039bc3"
      },
      "execution_count": null,
      "outputs": [
        {
          "output_type": "stream",
          "name": "stdout",
          "text": [
            "{'nome': 'Luiz', 'cidade': 'Niterói', 'ultimo_nome': 'Paluski'}\n"
          ]
        }
      ]
    },
    {
      "cell_type": "markdown",
      "source": [
        "#**For**\n",
        "##Estrutura de repetição"
      ],
      "metadata": {
        "id": "MJAIDn5BpKyu"
      }
    },
    {
      "cell_type": "markdown",
      "source": [
        "**Executar comandos, enquanto percorre os itens de uma coleção**\n",
        "* Sintaxe:\n",
        "  >>> For <Variável> in <coleção>:\n",
        "\n",
        "  >>>   << comandos >>\n",
        "\n",
        "##**Formas de repetição**\n",
        "* Range\n",
        "* Simples\n",
        "* Enumerate"
      ],
      "metadata": {
        "id": "evOfhTAapT8E"
      }
    },
    {
      "cell_type": "markdown",
      "source": [
        "#**For**"
      ],
      "metadata": {
        "id": "ziIqlq07qQ6k"
      }
    },
    {
      "cell_type": "code",
      "source": [
        "# For Range\n",
        "for contador in range(10):\n",
        "  print(contador)"
      ],
      "metadata": {
        "colab": {
          "base_uri": "https://localhost:8080/"
        },
        "id": "CdVk9xlDqhy0",
        "outputId": "45b31d18-cdd2-4e76-b387-9ef7cd87075e"
      },
      "execution_count": null,
      "outputs": [
        {
          "output_type": "stream",
          "name": "stdout",
          "text": [
            "0\n",
            "1\n",
            "2\n",
            "3\n",
            "4\n",
            "5\n",
            "6\n",
            "7\n",
            "8\n",
            "9\n"
          ]
        }
      ]
    },
    {
      "cell_type": "code",
      "source": [
        "# For range + break\n",
        "for contador in range(1000):\n",
        "  print(contador)\n",
        "  if contador == 2:\n",
        "    break"
      ],
      "metadata": {
        "colab": {
          "base_uri": "https://localhost:8080/"
        },
        "id": "pbjFgbamqwsM",
        "outputId": "ddaf448d-c7e1-497d-aa35-8bd41eae28aa"
      },
      "execution_count": null,
      "outputs": [
        {
          "output_type": "stream",
          "name": "stdout",
          "text": [
            "0\n",
            "1\n",
            "2\n"
          ]
        }
      ]
    },
    {
      "cell_type": "code",
      "source": [
        "lista = [\"Teste1\", \"Teste2\"]"
      ],
      "metadata": {
        "id": "yMh_uGOprCvU"
      },
      "execution_count": null,
      "outputs": []
    },
    {
      "cell_type": "code",
      "source": [
        "# For simples\n",
        "for val in lista:\n",
        "  print(val)"
      ],
      "metadata": {
        "colab": {
          "base_uri": "https://localhost:8080/"
        },
        "id": "O6CReYycrP9V",
        "outputId": "3f8f1164-ccf6-4b14-b759-4c9b2a6d81de"
      },
      "execution_count": null,
      "outputs": [
        {
          "output_type": "stream",
          "name": "stdout",
          "text": [
            "Teste1\n",
            "Teste2\n"
          ]
        }
      ]
    },
    {
      "cell_type": "code",
      "source": [
        "# For com enumerate\n",
        "for i, val in enumerate(lista):\n",
        "  print(i, val)"
      ],
      "metadata": {
        "colab": {
          "base_uri": "https://localhost:8080/"
        },
        "id": "_UaUe8eKrhJd",
        "outputId": "41c5b09d-d0d9-43b9-92ba-aa532e745436"
      },
      "execution_count": null,
      "outputs": [
        {
          "output_type": "stream",
          "name": "stdout",
          "text": [
            "0 Teste1\n",
            "1 Teste2\n"
          ]
        }
      ]
    },
    {
      "cell_type": "markdown",
      "source": [
        "#**For com operadores compostos**"
      ],
      "metadata": {
        "id": "Ybugo2i1UYV4"
      }
    },
    {
      "cell_type": "code",
      "source": [
        "lista2 = [2,3,4]\n"
      ],
      "metadata": {
        "id": "ayA8Qu0HUcGJ"
      },
      "execution_count": null,
      "outputs": []
    },
    {
      "cell_type": "code",
      "source": [
        "for val in lista2:\n",
        "  val *=2\n",
        "  print(val)"
      ],
      "metadata": {
        "colab": {
          "base_uri": "https://localhost:8080/"
        },
        "id": "yvrLA9jlUjm5",
        "outputId": "31ff7990-30e6-4b81-8fb8-6639b1b2b0e8"
      },
      "execution_count": null,
      "outputs": [
        {
          "output_type": "stream",
          "name": "stdout",
          "text": [
            "4\n",
            "6\n",
            "8\n"
          ]
        }
      ]
    },
    {
      "cell_type": "markdown",
      "source": [
        "#**While**"
      ],
      "metadata": {
        "id": "RanNgTJjU_Py"
      }
    },
    {
      "cell_type": "code",
      "source": [
        "val = 1\n",
        "while (val<6):\n",
        "  val *=2\n",
        "  print(val)\n"
      ],
      "metadata": {
        "colab": {
          "base_uri": "https://localhost:8080/"
        },
        "id": "ghLB103O68TS",
        "outputId": "7b804124-f989-461d-ef74-a7b3083a560f"
      },
      "execution_count": null,
      "outputs": [
        {
          "output_type": "stream",
          "name": "stdout",
          "text": [
            "2\n",
            "4\n",
            "8\n"
          ]
        }
      ]
    },
    {
      "cell_type": "code",
      "source": [
        "# While com else\n",
        "val = 4\n",
        "while (val<6):\n",
        "  val *=2\n",
        "  print(val)\n",
        "else:\n",
        "  print(\"Valor de val é:\", val)"
      ],
      "metadata": {
        "colab": {
          "base_uri": "https://localhost:8080/"
        },
        "id": "z9_12KCf7GWc",
        "outputId": "4b04156f-5473-4c02-c36e-72b63457fac3"
      },
      "execution_count": null,
      "outputs": [
        {
          "output_type": "stream",
          "name": "stdout",
          "text": [
            "8\n",
            "Valor de val é: 8\n"
          ]
        }
      ]
    },
    {
      "cell_type": "markdown",
      "source": [
        "#**Acessar algo por senha**"
      ],
      "metadata": {
        "id": "XDdb_jr5-O5j"
      }
    },
    {
      "cell_type": "code",
      "source": [
        "#Verificação de senha\n",
        "\n",
        "#Definir a senha\n",
        "senha= [\"514785\", \"123456\", \"987654\"]\n",
        "#Pedir senha\n",
        "senha_usuario= input(\"Digite a senha:\")\n",
        "\n",
        "if senha_usuario in senha:\n",
        "  print(\"Acesso permitido\")\n",
        "else:\n",
        "  print(\"Acesso negado\")"
      ],
      "metadata": {
        "colab": {
          "base_uri": "https://localhost:8080/"
        },
        "id": "zIzF17Ro-R1O",
        "outputId": "4b9b9dda-0030-4a44-99ac-d6bf2489fdad"
      },
      "execution_count": null,
      "outputs": [
        {
          "output_type": "stream",
          "name": "stdout",
          "text": [
            "Digite a senha:pirulito\n",
            "Acesso negado\n"
          ]
        }
      ]
    },
    {
      "cell_type": "code",
      "source": [
        "#Organizando dados de feedback de clientes\n",
        "#Lista de feedbacks\n",
        "feedbacks = [\"Ótimo serviço\", \"Produto excelente\", \"Atendimento rápido\"]\n",
        "#Dicionário com informações do cliente\n",
        "cliente ={\n",
        "    \"nome\":\"Maria\",\n",
        "    \"idade\": 28,\n",
        "    \"feedback\": \"Muito satisfeita\"\n",
        "}\n",
        "#Imprimir os feedbacks da lista\n",
        "print(\"Feedbacks dos clientes:\")\n",
        "for feedback in feedbacks:\n",
        "  print(\"-\" + feedback)\n",
        "#Imprimir informações do cliente\n",
        "print(\"\\nInformações do cliente:\") #\\n é utilizado para quebrar a linha\n",
        "print(\"Nome:\", cliente[\"nome\"])\n",
        "print(\"Idade:\", cliente[\"idade\"])\n",
        "print(\"Feedback:\", cliente[\"feedback\"])\n",
        "#"
      ],
      "metadata": {
        "colab": {
          "base_uri": "https://localhost:8080/"
        },
        "id": "EK4XKTcqcncU",
        "outputId": "f7ccab39-8816-4b92-bcaa-7e5174875a11"
      },
      "execution_count": null,
      "outputs": [
        {
          "output_type": "stream",
          "name": "stdout",
          "text": [
            "Feedbacks dos clientes:\n",
            "-Ótimo serviço\n",
            "-Produto excelente\n",
            "-Atendimento rápido\n",
            "\n",
            "Informações do cliente:\n",
            "Nome: Maria\n",
            "Idade: 28\n",
            "Feedback: Muito satisfeita\n"
          ]
        }
      ]
    },
    {
      "cell_type": "markdown",
      "source": [
        "#**Loop while**"
      ],
      "metadata": {
        "id": "wupPZd6AffyV"
      }
    },
    {
      "cell_type": "code",
      "source": [
        "contador = 2\n",
        "while contador <50:\n",
        "  print(\"Isso é a interação número\", contador)\n",
        "  contador *= 2\n",
        "while contador >4:\n",
        "  print(\"Isso é a interação número\", contador)\n",
        "  contador -= 2\n"
      ],
      "metadata": {
        "colab": {
          "base_uri": "https://localhost:8080/"
        },
        "collapsed": true,
        "id": "xrgWr4xPfuBs",
        "outputId": "435c92e8-af44-4976-81e3-258d9f638796"
      },
      "execution_count": null,
      "outputs": [
        {
          "output_type": "stream",
          "name": "stdout",
          "text": [
            "Isso é a interação número 2\n",
            "Isso é a interação número 4\n",
            "Isso é a interação número 8\n",
            "Isso é a interação número 16\n",
            "Isso é a interação número 32\n",
            "Isso é a interação número 64\n",
            "Isso é a interação número 62\n",
            "Isso é a interação número 60\n",
            "Isso é a interação número 58\n",
            "Isso é a interação número 56\n",
            "Isso é a interação número 54\n",
            "Isso é a interação número 52\n",
            "Isso é a interação número 50\n",
            "Isso é a interação número 48\n",
            "Isso é a interação número 46\n",
            "Isso é a interação número 44\n",
            "Isso é a interação número 42\n",
            "Isso é a interação número 40\n",
            "Isso é a interação número 38\n",
            "Isso é a interação número 36\n",
            "Isso é a interação número 34\n",
            "Isso é a interação número 32\n",
            "Isso é a interação número 30\n",
            "Isso é a interação número 28\n",
            "Isso é a interação número 26\n",
            "Isso é a interação número 24\n",
            "Isso é a interação número 22\n",
            "Isso é a interação número 20\n",
            "Isso é a interação número 18\n",
            "Isso é a interação número 16\n",
            "Isso é a interação número 14\n",
            "Isso é a interação número 12\n",
            "Isso é a interação número 10\n",
            "Isso é a interação número 8\n",
            "Isso é a interação número 6\n"
          ]
        }
      ]
    },
    {
      "cell_type": "code",
      "source": [
        "#Loop For:\n",
        "frutas = [\"maçã\", \"banana\", \"laranja\"]\n",
        "for fruta in frutas:\n",
        "  print(\"Eu gosto de\", fruta)"
      ],
      "metadata": {
        "colab": {
          "base_uri": "https://localhost:8080/"
        },
        "id": "7nTHqdyIHoIU",
        "outputId": "5008f93c-7feb-4076-dd94-4661cb9ab6f4"
      },
      "execution_count": null,
      "outputs": [
        {
          "output_type": "stream",
          "name": "stdout",
          "text": [
            "Eu gosto de maçã\n",
            "Eu gosto de banana\n",
            "Eu gosto de laranja\n"
          ]
        }
      ]
    },
    {
      "cell_type": "code",
      "source": [
        "#Lista de notas dos alunos\n",
        "notas = [85,92,78,90,88]\n",
        "#Calcula a média das notas\n",
        "soma = 0\n",
        "for nota in notas:\n",
        "  soma += nota\n",
        "media = soma / len(notas)\n",
        "#Classifica os alunos com base na média\n",
        "alunos_aprovados =[]\n",
        "alunos_reprovados =[]\n",
        "\n",
        "for nota in notas:\n",
        "  if nota >= media:\n",
        "    alunos_aprovados.append(nota)\n",
        "  else:\n",
        "    alunos_reprovados.append(nota)\n",
        "\n",
        "# imprime os resultados\n",
        "print(\"Notas dos alunos:\", notas)\n",
        "print(\"Média das notas:\", media)\n",
        "print(\"Alunos aprovados:\", alunos_aprovados)\n",
        "print(\"Alunos reprovados:\", alunos_reprovados)"
      ],
      "metadata": {
        "colab": {
          "base_uri": "https://localhost:8080/"
        },
        "id": "aB5JtXSsNrpq",
        "outputId": "62d5d1e9-b19c-4919-e38f-41df4fe83dd0"
      },
      "execution_count": null,
      "outputs": [
        {
          "output_type": "stream",
          "name": "stdout",
          "text": [
            "Notas dos alunos: [85, 92, 78, 90, 88]\n",
            "Média das notas: 86.6\n",
            "Alunos aprovados: [92, 90, 88]\n",
            "Alunos reprovados: [85, 78]\n"
          ]
        }
      ]
    }
  ]
}